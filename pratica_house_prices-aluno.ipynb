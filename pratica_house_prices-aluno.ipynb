{
 "cells": [
  {
   "cell_type": "markdown",
   "metadata": {},
   "source": [
    "# Plano de aula \n",
    "Faremos mais um vez um ciclo fim a fim de tudo que aprendemos até aqui nas próximas duas aulas com um mesmo dataset. A primeira aula (05/10) será concentrada no EDA. A segunda aula (07/10) na modelagem. \n",
    "Cada aluno fará o exercício passo-a-passo e, a cada passo, atualizará seu notebook com a solução proposta através do git. Peço que:\n",
    "1. Criem uma pasta para a aula \n",
    "2. Dentro dela, clonem o repositório https://github.com/etiecher/DH_pratica_housing_prices.git\n",
    "3. A cada etapa vocês deverão submeter um push request da solução que desenvolveram\n",
    "4. Na sequência apresentarei a solução proposta e vocês farão um git pull para que ao longo da aula possam ir utilizando mais facilmente os códigos desenvolvidos\n",
    "5. Todos que me enviaram seus usuários github já foram adicionados com permissão para push. Quem não enviou pode informar agora.\n",
    "6. Quem por algum motivo não conseguir utilizar git, me informe para que possamos organizar uma dupla. Podem indicar alguém ou posso sugerir alguém que já confirmou.\n",
    "           \n",
    "## Etapas - 1a aula\n",
    "    \n",
    "- (10 min): Set-up para sincronizar soluções (git). \n",
    "- (05 min): Planejamento (aluno)\n",
    "- (05 min): Solução proposta\n",
    "- (30 min): Exploração inicial\n",
    "- (10 min): Solução proposta\n",
    "- (10 min): Intervalo\n",
    "- (15 min): Conclusões iniciais\n",
    "- (15 min): Solução proposta\n",
    "- (30 min): Exploração secundária\n",
    "- (20 min): Solução proposta / questão do aluno\n",
    "- (20 min): Para casa: planejar os tempos para os próximos passos que serão realizados na próxima aula\n",
    "    \n",
    "## Etapas - 2a aula\n",
    "\n",
    "- TBD"
   ]
  },
  {
   "cell_type": "markdown",
   "metadata": {},
   "source": [
    "# Introdução do caso"
   ]
  },
  {
   "cell_type": "markdown",
   "metadata": {},
   "source": [
    "<br>\n",
    "<img src=\"img/house_price.png\" width=\"950\" />\n",
    "<br>\n",
    "\n",
    "No nosso exemplo vamos modelar uma regressão para explicar os preços das casas nos EUA.\n",
    "\n",
    "    -> Identificar como a base foi construida\n",
    "    -> Devemos nos preocupar os com outliers?\n",
    "    -> Ao analisar como as variáveis estão distribuidas, temos funções conhecidas?\n",
    "    -> Como as funções se correlacionam, os comportamentos são os previstos?\n",
    "    -> Para estudar a correlação parcial com regressões precisamos mudar a forma dos dados?\n",
    "    -> Variáveis dummies, quando usa-las\n",
    "    -> Iterando váriaveis\n",
    "    -> Gerando predições\n",
    "    \n",
    "Features:\n",
    "- **price** - The last price the house was sold for\n",
    "- **num_bed** - The number of bedrooms\n",
    "- **num_bath** - The number of bathrooms (fractions mean the house has a toilet-only or shower/bathtub-only bathroom)\n",
    "- **size_house** (includes basement) - The size of the house\n",
    "- **size_lot** - The size of the lot\n",
    "- **num_floors** - The number of floors\n",
    "- **is_waterfront** - Whether or not the house is a waterfront house (0 means it is not a waterfront house whereas 1 means that it is a waterfront house)\n",
    "- **condition** - How worn out the house is. Ranges from 1 (needs repairs all over the place) to 5 (the house is very well maintained)\n",
    "- **size_basement** - The size of the basement\n",
    "- **year_built** - The year the house was built\n",
    "- **renovation_date** - The year the house was renovated for the last time. 0 means the house has never been renovated\n",
    "- **zip** - The zip code\n",
    "- **latitude** - Latitude\n",
    "- **longitude** - Longitude\n",
    "- **avg_size_neighbor_houses** - The average house size of the neighbors\n",
    "- **avg_size_neighbor_lot** - The average lot size of the neighbors\n",
    "\n",
    "O dataset foi simplificado para a aula (algumas features foram excluídas). Dados originais disponíveis no Kaggle [clicando aqui](https://www.kaggle.com/harlfoxem/housesalesprediction)\n",
    "\n",
    "--------------"
   ]
  },
  {
   "cell_type": "markdown",
   "metadata": {},
   "source": [
    "# Aula 1 - EDA"
   ]
  },
  {
   "cell_type": "markdown",
   "metadata": {},
   "source": [
    "## Importando os pacotes"
   ]
  },
  {
   "cell_type": "code",
   "execution_count": null,
   "metadata": {},
   "outputs": [],
   "source": [
    "# %load solucao3.1.py"
   ]
  },
  {
   "cell_type": "markdown",
   "metadata": {},
   "source": [
    "## Leitura dos dados"
   ]
  },
  {
   "cell_type": "code",
   "execution_count": null,
   "metadata": {},
   "outputs": [],
   "source": [
    "# %load solucao3.2.py"
   ]
  },
  {
   "cell_type": "markdown",
   "metadata": {},
   "source": [
    "## EDA"
   ]
  },
  {
   "cell_type": "markdown",
   "metadata": {},
   "source": [
    "### Planejamento\n",
    "(05 min): Escreva um texto detalhando o que planeja fazer para descrever os dados. Não descreva as funções e sim que tipo de informação você quer obter sobre os dados."
   ]
  },
  {
   "cell_type": "code",
   "execution_count": null,
   "metadata": {},
   "outputs": [],
   "source": [
    "# %load solucao3.3.1.py"
   ]
  },
  {
   "cell_type": "markdown",
   "metadata": {},
   "source": [
    "### Análise exploratória inicial\n",
    "(25 min): Escreva o codigo para realizar o que planejou. procure fazer primeiro os codigos mais simples, mais objetivos, os que vierem primeiro a cabeça.\n"
   ]
  },
  {
   "cell_type": "code",
   "execution_count": null,
   "metadata": {},
   "outputs": [],
   "source": [
    "# %load solucao3.3.2.py"
   ]
  },
  {
   "cell_type": "code",
   "execution_count": null,
   "metadata": {},
   "outputs": [],
   "source": [
    "# %load solucao3.3.2adicional.py"
   ]
  },
  {
   "cell_type": "markdown",
   "metadata": {},
   "source": [
    "## Conclusões iniciais\n",
    "(15 min): Reserve um tempo para olhar com calma as informações e tirar conclusões para próximos passos. Como no item 4.1, descreva em texto."
   ]
  },
  {
   "cell_type": "code",
   "execution_count": null,
   "metadata": {},
   "outputs": [],
   "source": [
    "# %load solucao3.4.0.py"
   ]
  },
  {
   "cell_type": "markdown",
   "metadata": {},
   "source": [
    "## Reiterando na analise exploratória"
   ]
  },
  {
   "cell_type": "markdown",
   "metadata": {},
   "source": [
    "(30 min): Escolha uma ou mais das conclusões (pense nos critérios: importância, facilidade, etc) e desenvolva o código."
   ]
  },
  {
   "cell_type": "code",
   "execution_count": null,
   "metadata": {},
   "outputs": [],
   "source": [
    "# %load solucao3.5.1.py\n"
   ]
  },
  {
   "cell_type": "code",
   "execution_count": null,
   "metadata": {},
   "outputs": [],
   "source": [
    "# %load solucao3.5.1adicional.py"
   ]
  },
  {
   "cell_type": "markdown",
   "metadata": {},
   "source": [
    "----------------\n",
    "# Aula 2 - Modelagem"
   ]
  },
  {
   "cell_type": "markdown",
   "metadata": {},
   "source": [
    "## Plano de aulas"
   ]
  },
  {
   "cell_type": "markdown",
   "metadata": {},
   "source": [
    "%load solucao4.1.py"
   ]
  }
 ],
 "metadata": {
  "kernelspec": {
   "display_name": "Python 3",
   "language": "python",
   "name": "python3"
  },
  "language_info": {
   "codemirror_mode": {
    "name": "ipython",
    "version": 3
   },
   "file_extension": ".py",
   "mimetype": "text/x-python",
   "name": "python",
   "nbconvert_exporter": "python",
   "pygments_lexer": "ipython3",
   "version": "3.8.5"
  },
  "latex_envs": {
   "LaTeX_envs_menu_present": true,
   "autoclose": false,
   "autocomplete": true,
   "bibliofile": "biblio.bib",
   "cite_by": "apalike",
   "current_citInitial": 1,
   "eqLabelWithNumbers": true,
   "eqNumInitial": 1,
   "hotkeys": {
    "equation": "Ctrl-E",
    "itemize": "Ctrl-I"
   },
   "labels_anchors": false,
   "latex_user_defs": false,
   "report_style_numbering": false,
   "user_envs_cfg": false
  },
  "toc": {
   "base_numbering": 1,
   "nav_menu": {},
   "number_sections": true,
   "sideBar": true,
   "skip_h1_title": false,
   "title_cell": "Table of Contents",
   "title_sidebar": "Contents",
   "toc_cell": false,
   "toc_position": {},
   "toc_section_display": true,
   "toc_window_display": false
  },
  "toc-autonumbering": true,
  "varInspector": {
   "cols": {
    "lenName": 16,
    "lenType": 16,
    "lenVar": 40
   },
   "kernels_config": {
    "python": {
     "delete_cmd_postfix": "",
     "delete_cmd_prefix": "del ",
     "library": "var_list.py",
     "varRefreshCmd": "print(var_dic_list())"
    },
    "r": {
     "delete_cmd_postfix": ") ",
     "delete_cmd_prefix": "rm(",
     "library": "var_list.r",
     "varRefreshCmd": "cat(var_dic_list()) "
    }
   },
   "types_to_exclude": [
    "module",
    "function",
    "builtin_function_or_method",
    "instance",
    "_Feature"
   ],
   "window_display": false
  }
 },
 "nbformat": 4,
 "nbformat_minor": 4
}
